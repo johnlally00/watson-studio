{
    "cells": [
        {
            "cell_type": "code",
            "execution_count": 3,
            "metadata": {},
            "outputs": [
                {
                    "ename": "Compile Error",
                    "evalue": "<console>:34: error: not found: value endpoint_aedde6cca15a41d7ac9424c027e6fb9b\n           endpoint_aedde6cca15a41d7ac9424c027e6fb9b = \"https://s3-api.us-geo.objectstorage.softlayer.net\"\n           ^\n<console>:36: error: not found: value endpoint_aedde6cca15a41d7ac9424c027e6fb9b\n           endpoint_aedde6cca15a41d7ac9424c027e6fb9b = \"https://s3-api.us-geo.objectstorage.service.networklayer.com\"\n           ^\n<console>:41: error: not found: value endpoint_aedde6cca15a41d7ac9424c027e6fb9b\n           \"endPoint\"-> endpoint_aedde6cca15a41d7ac9424c027e6fb9b,\n                        ^\n",
                    "output_type": "error",
                    "traceback": []
                }
            ],
            "source": "// The code was removed by Watson Studio for sharing."
        },
        {
            "cell_type": "code",
            "execution_count": null,
            "metadata": {},
            "outputs": [],
            "source": ""
        }
    ],
    "metadata": {
        "kernelspec": {
            "display_name": "Scala 2.12 with Spark",
            "language": "scala",
            "name": "scala"
        },
        "language_info": {
            "codemirror_mode": "text/x-scala",
            "file_extension": ".scala",
            "mimetype": "text/x-scala",
            "name": "scala",
            "pygments_lexer": "scala",
            "version": "2.12.12"
        }
    },
    "nbformat": 4,
    "nbformat_minor": 1
}